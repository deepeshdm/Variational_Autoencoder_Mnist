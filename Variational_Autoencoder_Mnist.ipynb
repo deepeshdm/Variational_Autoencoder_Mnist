{
  "nbformat": 4,
  "nbformat_minor": 0,
  "metadata": {
    "colab": {
      "name": "Variational_Autoencoder_Mnist.ipynb",
      "provenance": []
    },
    "kernelspec": {
      "name": "python3",
      "display_name": "Python 3"
    },
    "language_info": {
      "name": "python"
    },
    "accelerator": "GPU"
  },
  "cells": [
    {
      "cell_type": "code",
      "metadata": {
        "id": "mla7V_p1uspn"
      },
      "source": [
        "import keras\n",
        "from keras import metrics\n",
        "import tensorflow as tf\n",
        "from keras import losses\n",
        "import numpy as np\n",
        "from keras import layers\n",
        "from keras import optimizers\n",
        "from keras.datasets import mnist"
      ],
      "execution_count": 1,
      "outputs": []
    },
    {
      "cell_type": "code",
      "metadata": {
        "id": "u4--9P-6u-cm"
      },
      "source": [
        "\n",
        "# Custom VAE class\n",
        "\n",
        "class VAE(keras.Model):\n",
        "    def __init__(self, encoder, decoder, **kwargs):\n",
        "        super(VAE, self).__init__(**kwargs)\n",
        "        self.encoder = encoder\n",
        "        self.decoder = decoder\n",
        "        self.total_loss_tracker = keras.metrics.Mean(name=\"total_loss\")\n",
        "        self.reconstruction_loss_tracker = keras.metrics.Mean(\n",
        "            name=\"reconstruction_loss\"\n",
        "        )\n",
        "        self.kl_loss_tracker = keras.metrics.Mean(name=\"kl_loss\")\n",
        "\n",
        "    @property\n",
        "    def metrics(self):\n",
        "        return [\n",
        "            self.total_loss_tracker,\n",
        "            self.reconstruction_loss_tracker,\n",
        "            self.kl_loss_tracker,\n",
        "        ]\n",
        "\n",
        "    def train_step(self, data):\n",
        "        with tf.GradientTape() as tape:\n",
        "            z_mean, z_log_var, z = self.encoder(data)\n",
        "            reconstruction = self.decoder(z)\n",
        "            reconstruction_loss = tf.reduce_mean(\n",
        "                tf.reduce_sum(\n",
        "                    losses.binary_crossentropy(data, reconstruction), axis=(1, 2)\n",
        "                )\n",
        "            )\n",
        "            kl_loss = -0.5 * (1 + z_log_var - tf.square(z_mean) - tf.exp(z_log_var))\n",
        "            kl_loss = tf.reduce_mean(tf.reduce_sum(kl_loss, axis=1))\n",
        "            total_loss = reconstruction_loss + kl_loss\n",
        "        grads = tape.gradient(total_loss, self.trainable_weights)\n",
        "        self.optimizer.apply_gradients(zip(grads, self.trainable_weights))\n",
        "        self.total_loss_tracker.update_state(total_loss)\n",
        "        self.reconstruction_loss_tracker.update_state(reconstruction_loss)\n",
        "        self.kl_loss_tracker.update_state(kl_loss)\n",
        "        return {\n",
        "            \"loss\": self.total_loss_tracker.result(),\n",
        "            \"reconstruction_loss\": self.reconstruction_loss_tracker.result(),\n",
        "            \"kl_loss\": self.kl_loss_tracker.result(),\n",
        "        }\n"
      ],
      "execution_count": 2,
      "outputs": []
    },
    {
      "cell_type": "code",
      "metadata": {
        "id": "akZo0dNVvA0V"
      },
      "source": [
        "class Sampling(layers.Layer):\n",
        "    \"\"\"Uses (z_mean, z_log_var) to sample z, the vector encoding a digit.\"\"\"\n",
        "\n",
        "    def call(self, inputs):\n",
        "        z_mean, z_log_var = inputs\n",
        "        batch = tf.shape(z_mean)[0]\n",
        "        dim = tf.shape(z_mean)[1]\n",
        "        epsilon = tf.keras.backend.random_normal(shape=(batch, dim))\n",
        "        return z_mean + tf.exp(0.5 * z_log_var) * epsilon"
      ],
      "execution_count": 3,
      "outputs": []
    },
    {
      "cell_type": "code",
      "metadata": {
        "id": "81_d_-9AvDUl"
      },
      "source": [
        "# Dimensionality of sampled latent vector.\n",
        "latent_dim = 10"
      ],
      "execution_count": 4,
      "outputs": []
    },
    {
      "cell_type": "code",
      "metadata": {
        "colab": {
          "base_uri": "https://localhost:8080/"
        },
        "id": "w_o199EIvDcc",
        "outputId": "577fceb1-9051-4338-84fa-418950b1799d"
      },
      "source": [
        "# Encoder\n",
        "encoder_inputs = keras.Input(shape=(28, 28, 1))\n",
        "x = layers.Conv2D(32, 3, activation=\"relu\", strides=2, padding=\"same\")(encoder_inputs)\n",
        "x = layers.Conv2D(64, 3, activation=\"relu\", strides=2, padding=\"same\")(x)\n",
        "x = layers.Flatten()(x)\n",
        "x = layers.Dense(16, activation=\"relu\")(x)\n",
        "z_mean = layers.Dense(latent_dim, name=\"z_mean\")(x)\n",
        "z_log_var = layers.Dense(latent_dim, name=\"z_log_var\")(x)\n",
        "z = Sampling()([z_mean, z_log_var])\n",
        "encoder = keras.Model(encoder_inputs, [z_mean, z_log_var, z], name=\"encoder\")\n",
        "\n",
        "encoder.summary()"
      ],
      "execution_count": 5,
      "outputs": [
        {
          "output_type": "stream",
          "text": [
            "Model: \"encoder\"\n",
            "__________________________________________________________________________________________________\n",
            "Layer (type)                    Output Shape         Param #     Connected to                     \n",
            "==================================================================================================\n",
            "input_1 (InputLayer)            [(None, 28, 28, 1)]  0                                            \n",
            "__________________________________________________________________________________________________\n",
            "conv2d (Conv2D)                 (None, 14, 14, 32)   320         input_1[0][0]                    \n",
            "__________________________________________________________________________________________________\n",
            "conv2d_1 (Conv2D)               (None, 7, 7, 64)     18496       conv2d[0][0]                     \n",
            "__________________________________________________________________________________________________\n",
            "flatten (Flatten)               (None, 3136)         0           conv2d_1[0][0]                   \n",
            "__________________________________________________________________________________________________\n",
            "dense (Dense)                   (None, 16)           50192       flatten[0][0]                    \n",
            "__________________________________________________________________________________________________\n",
            "z_mean (Dense)                  (None, 10)           170         dense[0][0]                      \n",
            "__________________________________________________________________________________________________\n",
            "z_log_var (Dense)               (None, 10)           170         dense[0][0]                      \n",
            "__________________________________________________________________________________________________\n",
            "sampling (Sampling)             (None, 10)           0           z_mean[0][0]                     \n",
            "                                                                 z_log_var[0][0]                  \n",
            "==================================================================================================\n",
            "Total params: 69,348\n",
            "Trainable params: 69,348\n",
            "Non-trainable params: 0\n",
            "__________________________________________________________________________________________________\n"
          ],
          "name": "stdout"
        }
      ]
    },
    {
      "cell_type": "code",
      "metadata": {
        "colab": {
          "base_uri": "https://localhost:8080/"
        },
        "id": "pEyhQkBBvDlH",
        "outputId": "fc7e06b4-febf-4ff3-a5e5-ccad26006864"
      },
      "source": [
        "# Decoder\n",
        "latent_inputs = keras.Input(shape=(latent_dim,))\n",
        "x = layers.Dense(7 * 7 * 64, activation=\"relu\")(latent_inputs)\n",
        "x = layers.Reshape((7, 7, 64))(x)\n",
        "x = layers.Conv2DTranspose(64, 3, activation=\"relu\", strides=2, padding=\"same\")(x)\n",
        "x = layers.Conv2DTranspose(32, 3, activation=\"relu\", strides=2, padding=\"same\")(x)\n",
        "decoder_outputs = layers.Conv2DTranspose(1, 3, activation=\"sigmoid\", padding=\"same\")(x)\n",
        "decoder = keras.Model(latent_inputs, decoder_outputs, name=\"decoder\")\n",
        "\n",
        "decoder.summary()"
      ],
      "execution_count": 6,
      "outputs": [
        {
          "output_type": "stream",
          "text": [
            "Model: \"decoder\"\n",
            "_________________________________________________________________\n",
            "Layer (type)                 Output Shape              Param #   \n",
            "=================================================================\n",
            "input_2 (InputLayer)         [(None, 10)]              0         \n",
            "_________________________________________________________________\n",
            "dense_1 (Dense)              (None, 3136)              34496     \n",
            "_________________________________________________________________\n",
            "reshape (Reshape)            (None, 7, 7, 64)          0         \n",
            "_________________________________________________________________\n",
            "conv2d_transpose (Conv2DTran (None, 14, 14, 64)        36928     \n",
            "_________________________________________________________________\n",
            "conv2d_transpose_1 (Conv2DTr (None, 28, 28, 32)        18464     \n",
            "_________________________________________________________________\n",
            "conv2d_transpose_2 (Conv2DTr (None, 28, 28, 1)         289       \n",
            "=================================================================\n",
            "Total params: 90,177\n",
            "Trainable params: 90,177\n",
            "Non-trainable params: 0\n",
            "_________________________________________________________________\n"
          ],
          "name": "stdout"
        }
      ]
    },
    {
      "cell_type": "code",
      "metadata": {
        "colab": {
          "base_uri": "https://localhost:8080/"
        },
        "id": "_-mZVWlgvLON",
        "outputId": "22f0d0ee-01e9-40a0-8425-32a1b7275a9d"
      },
      "source": [
        "# Training the model\n",
        "\n",
        "(x_train, _), (x_test, _) = keras.datasets.mnist.load_data()\n",
        "mnist_digits = np.concatenate([x_train, x_test], axis=0)\n",
        "mnist_digits = np.expand_dims(mnist_digits, -1).astype(\"float32\")\n",
        "\n",
        "# Scaling all Images\n",
        "mnist_digits = mnist_digits/255\n",
        "\n",
        "vae = VAE(encoder, decoder)\n",
        "vae.compile(optimizer=keras.optimizers.Adam(),metrics=[\"accuracy\"])\n",
        "\n",
        "vae.fit(mnist_digits, epochs=50, batch_size=64)"
      ],
      "execution_count": 10,
      "outputs": [
        {
          "output_type": "stream",
          "text": [
            "Epoch 1/50\n",
            "1094/1094 [==============================] - 14s 11ms/step - loss: 123.6725 - reconstruction_loss: 112.6627 - kl_loss: 10.9126\n",
            "Epoch 2/50\n",
            "1094/1094 [==============================] - 12s 11ms/step - loss: 123.3523 - reconstruction_loss: 112.5946 - kl_loss: 10.9357\n",
            "Epoch 3/50\n",
            "1094/1094 [==============================] - 12s 11ms/step - loss: 123.4912 - reconstruction_loss: 112.5944 - kl_loss: 10.9382\n",
            "Epoch 4/50\n",
            "1094/1094 [==============================] - 12s 11ms/step - loss: 123.5501 - reconstruction_loss: 112.5609 - kl_loss: 10.9227\n",
            "Epoch 5/50\n",
            "1094/1094 [==============================] - 12s 11ms/step - loss: 123.3762 - reconstruction_loss: 112.5898 - kl_loss: 10.9365\n",
            "Epoch 6/50\n",
            "1094/1094 [==============================] - 12s 11ms/step - loss: 123.3582 - reconstruction_loss: 112.5472 - kl_loss: 10.9306\n",
            "Epoch 7/50\n",
            "1094/1094 [==============================] - 12s 11ms/step - loss: 123.0956 - reconstruction_loss: 112.5308 - kl_loss: 10.9491\n",
            "Epoch 8/50\n",
            "1094/1094 [==============================] - 12s 11ms/step - loss: 123.1785 - reconstruction_loss: 112.4822 - kl_loss: 10.9435\n",
            "Epoch 9/50\n",
            "1094/1094 [==============================] - 12s 11ms/step - loss: 123.3166 - reconstruction_loss: 112.5024 - kl_loss: 10.9409\n",
            "Epoch 10/50\n",
            "1094/1094 [==============================] - 12s 11ms/step - loss: 123.0431 - reconstruction_loss: 112.4364 - kl_loss: 10.9545\n",
            "Epoch 11/50\n",
            "1094/1094 [==============================] - 12s 11ms/step - loss: 123.3221 - reconstruction_loss: 112.4212 - kl_loss: 10.9514\n",
            "Epoch 12/50\n",
            "1094/1094 [==============================] - 12s 11ms/step - loss: 123.1372 - reconstruction_loss: 112.4306 - kl_loss: 10.9561\n",
            "Epoch 13/50\n",
            "1094/1094 [==============================] - 12s 11ms/step - loss: 123.3755 - reconstruction_loss: 112.3760 - kl_loss: 10.9580\n",
            "Epoch 14/50\n",
            "1094/1094 [==============================] - 12s 11ms/step - loss: 123.1433 - reconstruction_loss: 112.3853 - kl_loss: 10.9593\n",
            "Epoch 15/50\n",
            "1094/1094 [==============================] - 12s 11ms/step - loss: 122.9689 - reconstruction_loss: 112.3554 - kl_loss: 10.9447\n",
            "Epoch 16/50\n",
            "1094/1094 [==============================] - 12s 11ms/step - loss: 123.3414 - reconstruction_loss: 112.3695 - kl_loss: 10.9556\n",
            "Epoch 17/50\n",
            "1094/1094 [==============================] - 12s 11ms/step - loss: 123.1249 - reconstruction_loss: 112.3181 - kl_loss: 10.9478\n",
            "Epoch 18/50\n",
            "1094/1094 [==============================] - 12s 11ms/step - loss: 123.3950 - reconstruction_loss: 112.3225 - kl_loss: 10.9619\n",
            "Epoch 19/50\n",
            "1094/1094 [==============================] - 12s 11ms/step - loss: 122.9607 - reconstruction_loss: 112.3224 - kl_loss: 10.9727\n",
            "Epoch 20/50\n",
            "1094/1094 [==============================] - 12s 11ms/step - loss: 123.3652 - reconstruction_loss: 112.2417 - kl_loss: 10.9675\n",
            "Epoch 21/50\n",
            "1094/1094 [==============================] - 12s 11ms/step - loss: 123.1398 - reconstruction_loss: 112.2627 - kl_loss: 10.9714\n",
            "Epoch 22/50\n",
            "1094/1094 [==============================] - 12s 11ms/step - loss: 123.2794 - reconstruction_loss: 112.2395 - kl_loss: 10.9749\n",
            "Epoch 23/50\n",
            "1094/1094 [==============================] - 12s 11ms/step - loss: 122.8829 - reconstruction_loss: 112.2332 - kl_loss: 10.9738\n",
            "Epoch 24/50\n",
            "1094/1094 [==============================] - 12s 11ms/step - loss: 122.6420 - reconstruction_loss: 112.2112 - kl_loss: 10.9675\n",
            "Epoch 25/50\n",
            "1094/1094 [==============================] - 12s 11ms/step - loss: 123.2389 - reconstruction_loss: 112.2503 - kl_loss: 10.9668\n",
            "Epoch 26/50\n",
            "1094/1094 [==============================] - 12s 11ms/step - loss: 122.9196 - reconstruction_loss: 112.1958 - kl_loss: 10.9567\n",
            "Epoch 27/50\n",
            "1094/1094 [==============================] - 12s 11ms/step - loss: 123.0718 - reconstruction_loss: 112.2033 - kl_loss: 10.9807\n",
            "Epoch 28/50\n",
            "1094/1094 [==============================] - 12s 11ms/step - loss: 122.8885 - reconstruction_loss: 112.1575 - kl_loss: 10.9821\n",
            "Epoch 29/50\n",
            "1094/1094 [==============================] - 12s 11ms/step - loss: 122.8878 - reconstruction_loss: 112.1704 - kl_loss: 10.9711\n",
            "Epoch 30/50\n",
            "1094/1094 [==============================] - 12s 11ms/step - loss: 123.0153 - reconstruction_loss: 112.1633 - kl_loss: 10.9965\n",
            "Epoch 31/50\n",
            "1094/1094 [==============================] - 12s 11ms/step - loss: 123.0858 - reconstruction_loss: 112.1376 - kl_loss: 10.9754\n",
            "Epoch 32/50\n",
            "1094/1094 [==============================] - 12s 11ms/step - loss: 122.7616 - reconstruction_loss: 112.0748 - kl_loss: 10.9838\n",
            "Epoch 33/50\n",
            "1094/1094 [==============================] - 12s 11ms/step - loss: 122.8421 - reconstruction_loss: 112.1048 - kl_loss: 10.9663\n",
            "Epoch 34/50\n",
            "1094/1094 [==============================] - 12s 11ms/step - loss: 122.8347 - reconstruction_loss: 112.0483 - kl_loss: 10.9730\n",
            "Epoch 35/50\n",
            "1094/1094 [==============================] - 12s 11ms/step - loss: 123.1191 - reconstruction_loss: 112.0108 - kl_loss: 10.9920\n",
            "Epoch 36/50\n",
            "1094/1094 [==============================] - 12s 11ms/step - loss: 122.9928 - reconstruction_loss: 112.0675 - kl_loss: 10.9783\n",
            "Epoch 37/50\n",
            "1094/1094 [==============================] - 12s 11ms/step - loss: 122.7263 - reconstruction_loss: 112.0789 - kl_loss: 10.9870\n",
            "Epoch 38/50\n",
            "1094/1094 [==============================] - 12s 11ms/step - loss: 122.9377 - reconstruction_loss: 112.0094 - kl_loss: 11.0004\n",
            "Epoch 39/50\n",
            "1094/1094 [==============================] - 12s 11ms/step - loss: 122.7402 - reconstruction_loss: 111.9682 - kl_loss: 11.0035\n",
            "Epoch 40/50\n",
            "1094/1094 [==============================] - 12s 11ms/step - loss: 122.7437 - reconstruction_loss: 111.9883 - kl_loss: 11.0018\n",
            "Epoch 41/50\n",
            "1094/1094 [==============================] - 12s 11ms/step - loss: 122.9098 - reconstruction_loss: 111.9669 - kl_loss: 10.9922\n",
            "Epoch 42/50\n",
            "1094/1094 [==============================] - 12s 11ms/step - loss: 122.5386 - reconstruction_loss: 111.9570 - kl_loss: 10.9938\n",
            "Epoch 43/50\n",
            "1094/1094 [==============================] - 12s 11ms/step - loss: 122.7674 - reconstruction_loss: 111.9330 - kl_loss: 10.9808\n",
            "Epoch 44/50\n",
            "1094/1094 [==============================] - 12s 11ms/step - loss: 122.9584 - reconstruction_loss: 111.9303 - kl_loss: 11.0148\n",
            "Epoch 45/50\n",
            "1094/1094 [==============================] - 12s 11ms/step - loss: 122.8208 - reconstruction_loss: 111.9290 - kl_loss: 11.0177\n",
            "Epoch 46/50\n",
            "1094/1094 [==============================] - 13s 11ms/step - loss: 122.9200 - reconstruction_loss: 111.8625 - kl_loss: 10.9947\n",
            "Epoch 47/50\n",
            "1094/1094 [==============================] - 12s 11ms/step - loss: 122.8159 - reconstruction_loss: 111.8866 - kl_loss: 10.9991\n",
            "Epoch 48/50\n",
            "1094/1094 [==============================] - 12s 11ms/step - loss: 122.5478 - reconstruction_loss: 111.9080 - kl_loss: 10.9948\n",
            "Epoch 49/50\n",
            "1094/1094 [==============================] - 12s 11ms/step - loss: 122.6272 - reconstruction_loss: 111.8604 - kl_loss: 11.0044\n",
            "Epoch 50/50\n",
            "1094/1094 [==============================] - 12s 11ms/step - loss: 122.5431 - reconstruction_loss: 111.8626 - kl_loss: 11.0312\n"
          ],
          "name": "stdout"
        },
        {
          "output_type": "execute_result",
          "data": {
            "text/plain": [
              "<keras.callbacks.History at 0x7f28d44d4290>"
            ]
          },
          "metadata": {
            "tags": []
          },
          "execution_count": 10
        }
      ]
    },
    {
      "cell_type": "code",
      "metadata": {
        "colab": {
          "base_uri": "https://localhost:8080/",
          "height": 1000
        },
        "id": "3kpYNJuYvOet",
        "outputId": "60ffcf08-2b33-4ce3-8d49-7ee68dcedf3d"
      },
      "source": [
        "# Generating new Images using the Decoder as a standalone model.\n",
        "\n",
        "import matplotlib.pyplot as plt\n",
        "\n",
        "plt.figure(figsize=(14,10))\n",
        "for i in range(12):\n",
        "    # creating list of random numbers from Std Normal distribution.\n",
        "    # list will have same length as latent_dim\n",
        "    random_nums = np.random.normal(loc=0, scale=1, size=latent_dim)\n",
        "\n",
        "    z_sample = np.array([random_nums])\n",
        "    print(\"Z_SAMPLE Image{}: {}\".format(i,z_sample))\n",
        "    x_decoded = vae.decoder.predict(z_sample)\n",
        "    digit = x_decoded[0].reshape(28, 28)\n",
        "    \n",
        "    plt.subplot(3,4,i+1)\n",
        "    plt.axis(\"off\")\n",
        "    plt.imshow(digit, cmap=\"gray\")\n",
        "\n",
        "plt.show()"
      ],
      "execution_count": 18,
      "outputs": [
        {
          "output_type": "stream",
          "text": [
            "Z_SAMPLE Image0: [[ 1.37869284 -0.11089521 -0.53548469 -0.509772    0.59865037 -0.47166224\n",
            "  -1.53476227 -2.08934117 -1.15543114  1.25526464]]\n",
            "Z_SAMPLE Image1: [[ 1.54893734  0.51603095 -0.22455499  0.15716096  0.42236286 -0.49387841\n",
            "  -0.45078638 -0.27606909 -0.76892264 -1.18803506]]\n",
            "Z_SAMPLE Image2: [[ 1.08582131 -0.07646912  0.73347728 -0.66599971 -0.92634687 -0.27888803\n",
            "   0.30908643  1.27981737  0.60768279  0.99227538]]\n",
            "Z_SAMPLE Image3: [[-0.87983676 -1.50469187  0.99643155 -1.03760607 -0.63504809  0.3670902\n",
            "  -1.94208009 -3.2045307  -1.63362186 -0.63112397]]\n",
            "Z_SAMPLE Image4: [[ 1.54436678  1.47294978 -0.60511314  1.14383859  0.62995055  1.3181023\n",
            "  -0.30538598 -0.47045344  0.387667    0.60878063]]\n",
            "Z_SAMPLE Image5: [[-0.36311868  0.35864749 -0.11468259 -1.10757676  0.96025095 -0.46193701\n",
            "  -0.38255939 -0.65659867 -0.70746079  0.53717772]]\n",
            "Z_SAMPLE Image6: [[ 2.06686722 -1.27073446  1.67105775 -0.10784616  0.80473743  1.70209957\n",
            "  -0.57878567  0.19135544  0.95831693 -2.43867655]]\n",
            "Z_SAMPLE Image7: [[ 0.064665    0.45383043  1.57058053  1.99658739 -0.36722573 -0.31176956\n",
            "   0.22137632 -1.09722841 -1.13117182 -0.29352734]]\n",
            "Z_SAMPLE Image8: [[ 0.22958026 -3.42202909 -0.08662924  0.30821887  0.797416   -0.52262271\n",
            "  -1.57495716  1.2937833  -0.6421653  -0.23410733]]\n",
            "Z_SAMPLE Image9: [[ 0.54528066 -1.52932721  1.94033529  1.06347884  1.73859893 -0.65211133\n",
            "  -1.14290856  1.48520568 -0.7634076   0.36010763]]\n",
            "Z_SAMPLE Image10: [[-0.46058006 -0.4181778   0.40621414 -0.95391705  0.04444562  0.77213249\n",
            "  -0.50170438  0.1307934   1.33498952 -1.88287334]]\n",
            "Z_SAMPLE Image11: [[ 1.03636889  0.99898281  0.33986064  0.90406076  0.53946971  0.05428829\n",
            "  -0.86949623 -0.44338368 -0.27577673 -0.11123094]]\n"
          ],
          "name": "stdout"
        },
        {
          "output_type": "display_data",
          "data": {
            "image/png": "[encoded data removed]",
            "text/plain": [
              "<Figure size 1008x720 with 12 Axes>"
            ]
          },
          "metadata": {
            "tags": [],
            "needs_background": "light"
          }
        }
      ]
    },
    {
      "cell_type": "code",
      "metadata": {
        "colab": {
          "base_uri": "https://localhost:8080/",
          "height": 575
        },
        "id": "zgQVESd34M1K",
        "outputId": "53a22049-ba68-449c-c40f-0bd3cc94ed8f"
      },
      "source": [
        "# Plotting images from training dataset to compare.\n",
        "\n",
        "plt.figure(figsize=(14,10))\n",
        "for i in range(12):\n",
        "    plt.subplot(3,4,i+1)\n",
        "    plt.axis(\"off\")\n",
        "    plt.imshow(x_train[i], cmap=\"gray\")\n",
        "plt.show()"
      ],
      "execution_count": 12,
      "outputs": [
        {
          "output_type": "display_data",
          "data": {
            "image/png": "[encoded data removed]",
            "text/plain": [
              "<Figure size 1008x720 with 12 Axes>"
            ]
          },
          "metadata": {
            "tags": [],
            "needs_background": "light"
          }
        }
      ]
    }
  ]
}